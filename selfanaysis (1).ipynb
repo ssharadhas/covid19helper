{
 "cells": [
  {
   "cell_type": "code",
   "execution_count": 1,
   "metadata": {},
   "outputs": [
    {
     "name": "stdout",
     "output_type": "stream",
     "text": [
      "1 for yes and 0 for no\n",
      "In the last 10 days were you diagnosed with COVID-19 or had a test confirming you have the virus?0\n",
      "0\n"
     ]
    }
   ],
   "source": [
    "print(\"1 for yes and 0 for no\")\n",
    "a = input(\"In the last 10 days were you diagnosed with COVID-19 or had a test confirming you have the virus?\")\n",
    "print(a)"
   ]
  },
  {
   "cell_type": "code",
   "execution_count": 2,
   "metadata": {},
   "outputs": [
    {
     "name": "stdout",
     "output_type": "stream",
     "text": [
      "Do you live in the same household with, or have you had close contact* in the past 14 days with someone who has been in isolation for COVID-19 or had a test confirming they have the virus?0\n"
     ]
    }
   ],
   "source": [
    "b = input(\"Do you live in the same household with, or have you had close contact* in the past 14 days with someone who has been in isolation for COVID-19 or had a test confirming they have the virus?\")\n"
   ]
  },
  {
   "cell_type": "code",
   "execution_count": 3,
   "metadata": {},
   "outputs": [
    {
     "name": "stdout",
     "output_type": "stream",
     "text": [
      "Have you had any one or more of these symptoms today or within the past 24 hours, which is new or not explained by a reason other than possibly having COVID-19?\n",
      "Fever, Chills, or Repeated Shaking/Shivering1\n",
      "Cough0\n",
      "Sore Throat0\n",
      "Shortness of Breath,Difficulty Breathing0\n",
      "Feeling Unusually Weak or Fatigued1\n",
      "Loss of Taste or Smell0\n",
      "Muscle pain1\n",
      "Headache0\n",
      "Runny or congested nose1\n",
      "Diarrhea0\n",
      "Nausea and vomiting1\n"
     ]
    }
   ],
   "source": [
    "print(\"Have you had any one or more of these symptoms today or within the past 24 hours, which is new or not explained by a reason other than possibly having COVID-19?\")\n",
    "d=input(\"Fever, Chills, or Repeated Shaking/Shivering\")\n",
    "e=input(\"Cough\")\n",
    "f=input(\"Sore Throat\")\n",
    "g=input(\"Shortness of Breath,Difficulty Breathing\")\n",
    "h=input(\"Feeling Unusually Weak or Fatigued\")\n",
    "i=input(\"Loss of Taste or Smell\")\n",
    "j=input(\"Muscle pain\")\n",
    "k=input(\"Headache\")\n",
    "l=input(\"Runny or congested nose\")\n",
    "m=input(\"Diarrhea\")\n",
    "n=input(\"Nausea and vomiting\")\n",
    "total=d+e+f+g+h+i+j+k+l+m+n\n",
    "total=int(total)"
   ]
  },
  {
   "cell_type": "code",
   "execution_count": 19,
   "metadata": {},
   "outputs": [
    {
     "name": "stdout",
     "output_type": "stream",
     "text": [
      "DO NOT GO OUT. CHECK WITH DOCTOR\n"
     ]
    }
   ],
   "source": [
    "if a==1 :\n",
    "    print(\"DO NOT GO OUT\")\n",
    "if  b==1 :\n",
    "    print(\"DO NOT GO OUT\")\n",
    "if total >= 2:\n",
    "    print(\"DO NOT GO OUT. CHECK WITH DOCTOR\")"
   ]
  },
  {
   "cell_type": "code",
   "execution_count": null,
   "metadata": {},
   "outputs": [],
   "source": []
  }
 ],
 "metadata": {
  "kernelspec": {
   "display_name": "Python 3",
   "language": "python",
   "name": "python3"
  },
  "language_info": {
   "codemirror_mode": {
    "name": "ipython",
    "version": 3
   },
   "file_extension": ".py",
   "mimetype": "text/x-python",
   "name": "python",
   "nbconvert_exporter": "python",
   "pygments_lexer": "ipython3",
   "version": "3.7.4"
  }
 },
 "nbformat": 4,
 "nbformat_minor": 2
}
